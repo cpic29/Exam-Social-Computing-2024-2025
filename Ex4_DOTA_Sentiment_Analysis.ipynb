{
 "cells": [
  {
   "cell_type": "markdown",
   "metadata": {},
   "source": [
    "# Social Computing/Social Gaming - Summer 2025\n",
    "\n",
    "# Exercise Sheet 4: Sentiment Analysis in Dota 2\n",
    "\n",
    "In this exercise we will work with data gathered from the popular MOBA *Defense of the Ancients 2*, or short Dota 2, developed by Valve in 2013. If you are unfamiliar with this game, we provide a short introduction that should be enough to make you understand what the tasks demand from you:\n",
    "\n",
    "In Dota 2, two teams of 5 players play against each other on a single map, each team trying to destroy the enemy base, also called the ancient. In order to do this, they try to kill each other, earn gold and experience by killing non-player characters called creeps to gain an advantage over the enemy. In every match, players first choose from a pool of 126 different heroes, which are roughly divided into 2 groups: Carries, who start out weak and become much stronger once they accumulate a sufficient amount of gold to buy items they need, and supports, who protect the carries in the early stages of a match, but tend to become less relevant in the later stages. Every team needs a balanced hero selection in order to have a chance of winning, as too many carries will have that team face a disadvantage early on, while too many supports may cause that team to struggle to win the game even once an advantage has been secured early.\n",
    "\n",
    "Psychologically speaking, Dota - or any MOBA for that matter - is an experiment on successful team formation and cooperation, as 5 strangers meet each other for one match with the same goal, but usually different views on how to achieve it. Its real-world equivalent would be any mash-up of people forced to work in a group, the only difference being that usually real-life situations don't involve another group working against them. \n",
    "\n",
    "Needless to say, the nature of the game does provoke negativity at times, and we want to try to predict it. More precisely, we want to find out whether we can infer negative player behavior from modeling the state of a game as a set of values.\n",
    "\n",
    "The .csv files provided for you contain information from 1.500 matches played during December 2016, and are split into 5 tables: \n",
    "\n",
    "- **chat.csv**: This table contains information about what was said in the chat between teams, when it was said, and which player said it. We need the 'key', 'time' and 'slot' column as we are only interested in which team the players belong to, not their identities.\n",
    "- **match.csv**: Contains information about the game results. We only need the 'radiant_win' column from it, which tells us which team won.\n",
    "- **players.csv**: Detailed statistics for every player. 'kills' and 'deaths' columns are needed as we will need them to determine underperforming players.\n",
    "- **player_times.csv**: Among other things the gold accumulated by every player, for every minute of a match, used to calculate the difference in gold earned between these teams.\n",
    "- **labels.csv**: A sample of labeled chat used for the sentiment analysis."
   ]
  },
  {
   "cell_type": "markdown",
   "metadata": {},
   "source": [
    "## Import needed libraries for assignment"
   ]
  },
  {
   "cell_type": "code",
   "execution_count": 47,
   "metadata": {},
   "outputs": [],
   "source": [
    "# Import libraries needed for sentiment analysis\n",
    "import numpy as np \n",
    "import pandas as pd\n",
    "import re\n",
    "import nltk \n",
    "import matplotlib.pyplot as plt\n",
    "import sklearn\n",
    "from nltk.corpus import stopwords\n",
    "from sklearn.feature_extraction.text import TfidfVectorizer\n",
    "from sklearn.model_selection import train_test_split\n",
    "from sklearn.ensemble import RandomForestClassifier\n",
    "from sklearn.metrics import classification_report, confusion_matrix, accuracy_score\n",
    "from sklearn import preprocessing\n",
    "from sklearn import  svm \n",
    "from sklearn.linear_model import LinearRegression\n",
    "from statistics import mean\n",
    "from sklearn import linear_model"
   ]
  },
  {
   "cell_type": "markdown",
   "metadata": {},
   "source": [
    "## Task 4.1 - Your first sentiment analysis\n",
    "\n",
    "Sentiment analysis, sometimes called opinion mining, is a method to derive information from the text that allows for a classification as neutral, positive or negative. It is a semi-supervised process, meaning that you need a small set of labeled data to train your machine learning model on in order to use it on another set of unlabeled data. As the model is trained on the labeled set, it learns which input to classify as 'positive', 'neutral', or 'negative'. More subtle differences might only become distinguishable for the model with a larger size of the training set, so as a basic rule you could say: The bigger the training set, the better the classifier can perform. Some of its many practical applications are the analysis of customer reviews, social media comments, or survey responses.\n",
    "\n",
    "**Note:** We will use a random forest classifier in this task.\n",
    "\n",
    "Your task is to **train a model using the labeled data**, then use that model to predict the sentiments of the whole chat. Let us start with the basics:"
   ]
  },
  {
   "cell_type": "markdown",
   "metadata": {},
   "source": [
    "### a) Preparation\n",
    "\n",
    "**Import** the labels and split them into two arrays: the chat itself and the labels.\n",
    "\n",
    "A label is like a review of a single message:  \n",
    "-1 = negative  \n",
    " 0 = neutral   \n",
    " 1 = positive"
   ]
  },
  {
   "cell_type": "code",
   "execution_count": 48,
   "metadata": {},
   "outputs": [
    {
     "name": "stdout",
     "output_type": "stream",
     "text": [
      "<class 'pandas.core.frame.DataFrame'>\n",
      "RangeIndex: 475 entries, 0 to 474\n",
      "Data columns (total 2 columns):\n",
      " #   Column        Non-Null Count  Dtype \n",
      "---  ------        --------------  ----- \n",
      " 0   Chat message  475 non-null    object\n",
      " 1   Label         475 non-null    object\n",
      "dtypes: object(2)\n",
      "memory usage: 7.5+ KB\n",
      "None\n"
     ]
    }
   ],
   "source": [
    "# Import \"labels.csv\" and split it into 2 arrays: chat and labels.\n",
    "df = pd.read_csv('dataset/labels.csv')\n",
    "print(df.info())\n",
    "chat = df['Chat message'].values\n",
    "labels = df['Label'].values"
   ]
  },
  {
   "cell_type": "markdown",
   "metadata": {},
   "source": [
    "### b) How to train your model\n",
    "\n",
    "In this step you will use the chat and labels to **train your random forest classifier**. In order to do so, **create** the random forest classifier, **fit** it and **make a prediction** on the test set.\n",
    "\n",
    "After you are done, print the accuracy score and comment on it.\n",
    "\n",
    "**Hints:**\n",
    "- When creating the classifier, use `n_estimators=200`, `random_state=0` as arguments.\n",
    "- The test should be 20% of the whole set"
   ]
  },
  {
   "cell_type": "code",
   "execution_count": 49,
   "metadata": {},
   "outputs": [
    {
     "name": "stderr",
     "output_type": "stream",
     "text": [
      "[nltk_data] Downloading package stopwords to\n",
      "[nltk_data]     /Users/chiarapiccolo/nltk_data...\n",
      "[nltk_data]   Package stopwords is already up-to-date!\n"
     ]
    },
    {
     "data": {
      "text/plain": [
       "True"
      ]
     },
     "execution_count": 49,
     "metadata": {},
     "output_type": "execute_result"
    }
   ],
   "source": [
    "# There are some words which do not have any valuable classification information. \n",
    "# We will use 'stopwords' to get rid of them.\n",
    "nltk.download('stopwords')"
   ]
  },
  {
   "cell_type": "code",
   "execution_count": 50,
   "metadata": {
    "scrolled": true
   },
   "outputs": [
    {
     "name": "stdout",
     "output_type": "stream",
     "text": [
      "Confusion Matrix:\n",
      "[[ 9 28  0]\n",
      " [ 0 50  3]\n",
      " [ 0  5  0]]\n",
      "\n",
      "Classification report:\n",
      "              precision    recall  f1-score   support\n",
      "\n",
      "    negative       1.00      0.24      0.39        37\n",
      "     neutral       0.60      0.94      0.74        53\n",
      "    positive       0.00      0.00      0.00         5\n",
      "\n",
      "    accuracy                           0.62        95\n",
      "   macro avg       0.53      0.40      0.38        95\n",
      "weighted avg       0.73      0.62      0.56        95\n",
      "\n",
      "\n",
      "Accuracy Score:\n",
      "0.6210526315789474\n"
     ]
    }
   ],
   "source": [
    "chat_data = [str (item) for item in chat]\n",
    "vectorizer = TfidfVectorizer (max_features=2500, min_df=3, max_df=0.8, stop_words=stopwords.words('english'))\n",
    "chat_data = vectorizer.fit_transform(chat_data).toarray()\n",
    "\n",
    "# Create the random forest classifier, fit it and make a prediction on the test set.\n",
    "X_train, X_test, y_train, y_test = train_test_split(chat_data, labels, test_size=0.2, random_state=42)\n",
    "\n",
    "clf = RandomForestClassifier(n_estimators=200, random_state=0)\n",
    "clf.fit(X_train, y_train)\n",
    "\n",
    "predictions = clf.predict(X_test)\n",
    "\n",
    "print(f\"Confusion Matrix:\\n{confusion_matrix(y_test,predictions)}\\n\")\n",
    "print(f\"Classification report:\\n{classification_report(y_test,predictions)}\\n\")\n",
    "print(f\"Accuracy Score:\\n{accuracy_score(y_test, predictions)}\")"
   ]
  },
  {
   "cell_type": "markdown",
   "metadata": {},
   "source": [
    "**Write your observations here:** The model’s accuracy is moderate (62%), but the confusion matrix shows very different performance across classes.\n",
    "\n",
    "For the positive class, all scores are 0: the model failed to recognize any positive messages. This likely happens because there are very few positive examples in the data.\n",
    "\n",
    "For the negative class, the precision is high (1.00) but the recall is low (0.24). This means that when the model says a message is negative, it is correct, but it misses many negative messages.\n",
    "\n",
    "The neutral class is handled better: recall is high (0.94), so most neutral messages are correctly found. But precision is low (0.60), meaning the model also marks non-neutral messages as neutral. This shows the model is biased toward the neutral class, probably because it is the most common. When uncertain, the model tends to pick “neutral”."
   ]
  },
  {
   "cell_type": "markdown",
   "metadata": {},
   "source": [
    "### c) Prediction time:\n",
    "\n",
    "Now you can use the model to **predict the sentiments** for the whole chat. Import the chat and **predict the labels**. You will need to use `vectorizer.transform().toarray()` on your data, but **do not** use `fit()` anywhere! The classifier is already fitted, fitting it again effectively erases all it has learned.\n",
    "\n",
    "**Note:** The chat table is massive. Labelling all of it may take a while."
   ]
  },
  {
   "cell_type": "code",
   "execution_count": 51,
   "metadata": {},
   "outputs": [
    {
     "name": "stdout",
     "output_type": "stream",
     "text": [
      "<class 'pandas.core.frame.DataFrame'>\n",
      "RangeIndex: 46744 entries, 0 to 46743\n",
      "Data columns (total 5 columns):\n",
      " #   Column    Non-Null Count  Dtype \n",
      "---  ------    --------------  ----- \n",
      " 0   match_id  46744 non-null  int64 \n",
      " 1   key       46743 non-null  object\n",
      " 2   slot      46744 non-null  int64 \n",
      " 3   time      46744 non-null  int64 \n",
      " 4   unit      46731 non-null  object\n",
      "dtypes: int64(3), object(2)\n",
      "memory usage: 1.8+ MB\n",
      "None\n",
      "46269\n",
      "['neutral' 'negative' 'neutral' 'neutral' 'neutral' 'neutral' 'neutral'\n",
      " 'positive' 'negative' 'neutral']\n"
     ]
    },
    {
     "data": {
      "text/plain": [
       "46269"
      ]
     },
     "execution_count": 51,
     "metadata": {},
     "output_type": "execute_result"
    }
   ],
   "source": [
    "chatData = pd.read_csv(\"dataset/chat.csv\")\n",
    "print(chatData.info())\n",
    "unlabeled = chatData.iloc[:,1].values\n",
    "unlabeled = chatData['key'].iloc[475:].fillna(\"\").values\n",
    "print(len(unlabeled))\n",
    "\n",
    "# We remove the first 475 entries as they are the ones contained in our labeled training set,\n",
    "# so we will rather use their original hand made labels.\n",
    "\n",
    "X_unlabeled = vectorizer.transform(unlabeled).toarray()\n",
    "predicted_labels = clf.predict(X_unlabeled)\n",
    "print(predicted_labels[:10])\n",
    "\n",
    "len(predicted_labels)"
   ]
  },
  {
   "cell_type": "markdown",
   "metadata": {},
   "source": [
    "## Task 4.2 - Linear regression\n",
    "\n",
    "Linear regression is a technique that tries to find a correlation between a set of input variables x and a dependant variable y. In mathematical terms:\n",
    "\n",
    "$$y = \\alpha + \\beta X + \\epsilon$$\n",
    "\n",
    "where:\n",
    "- $X$ is the predictive vector, containing the (predictive) variables\n",
    "- $\\alpha$ and $\\beta$ are the model's parameters, where $\\alpha$ is the intercept/bias, $\\beta$ the coefficient vector containing coefficients for each predictive variable\n",
    "- and $\\epsilon$ the prediction error.\n",
    "\n",
    "Note that the assumption made is that the relationship is linear. This is a special case of polynomial regression, where we would allow for e.g. squared relationships.\n",
    "\n",
    "Our dependant variable is the negativity in the chat. Therefore we need to convert our labels into numbers first: We will use 0 for neutral, -1 for negative and +1 for positive sentiments. This is, of course, a simplification, as not all negative statements are equally negative. But we need to acknowledge that it is simply impossible to make an accurate distinction without knowing any context. And if we knew that, there would be no point in doing this regression."
   ]
  },
  {
   "cell_type": "code",
   "execution_count": 52,
   "metadata": {},
   "outputs": [],
   "source": [
    "# Convert the labels into values\n",
    "# First we add the hand made labels for the first 475 entries\n",
    "sentiments = []\n",
    "for i in labels:\n",
    "    if i == 'positive':\n",
    "        sentiments.append(1)\n",
    "    elif i == 'negative':\n",
    "        sentiments.append(-1)\n",
    "    else:\n",
    "        sentiments.append(0)"
   ]
  },
  {
   "cell_type": "code",
   "execution_count": 53,
   "metadata": {},
   "outputs": [],
   "source": [
    "# Now we add our predicted labels\n",
    "for i in predicted_labels:\n",
    "    if i == 'positive':\n",
    "        sentiments.append(1)\n",
    "    elif i == 'negative':\n",
    "        sentiments.append(-1)\n",
    "    elif i == 'neutral':\n",
    "        sentiments.append(0)"
   ]
  },
  {
   "cell_type": "code",
   "execution_count": 54,
   "metadata": {},
   "outputs": [
    {
     "name": "stdout",
     "output_type": "stream",
     "text": [
      "46744\n",
      "475\n",
      "46269\n"
     ]
    }
   ],
   "source": [
    "print(len(chatData))   \n",
    "print(len(labels))             \n",
    "print(len(predicted_labels))        "
   ]
  },
  {
   "cell_type": "markdown",
   "metadata": {},
   "source": [
    "### a) Preparation:\n",
    "\n",
    "First, we need to **read the .csv files** and group them by `match_id`.\n",
    "\n",
    "**1.** **Create a dataframe** containing all relevant information where each row represents one match. An empty dataframe has already been created for you with all the columns you need to fill. \n"
   ]
  },
  {
   "cell_type": "code",
   "execution_count": 55,
   "metadata": {},
   "outputs": [
    {
     "name": "stdout",
     "output_type": "stream",
     "text": [
      "       match_id            key  slot  time  label\n",
      "0             0       force it     6    -8      0\n",
      "1             0  space created     1     5      0\n",
      "2             0            hah     1     6      0\n",
      "3             0         ez 500     6     9     -1\n",
      "4             0       mvp ulti     4   934      0\n",
      "...         ...            ...   ...   ...    ...\n",
      "46737      1500              g     2   -83      0\n",
      "46738      1500              g     6   -83      0\n",
      "46739      1500              g     9   -83      0\n",
      "46740      1500           ggwp     5  1660      0\n",
      "46741      1500             gg     4  1666      0\n",
      "\n",
      "[7320 rows x 5 columns]\n"
     ]
    },
    {
     "name": "stdout",
     "output_type": "stream",
     "text": [
      "       match_id  times  gold_t_0  lh_t_0  xp_t_0  gold_t_1  lh_t_1  xp_t_1  \\\n",
      "0             0      0         0       0       0         0       0       0   \n",
      "1             0     60       409       0      63       142       1     186   \n",
      "2             0    120       546       0     283       622       4     645   \n",
      "3             0    180       683       1     314       927       9    1202   \n",
      "4             0    240       956       1     485      1264      11    1583   \n",
      "...         ...    ...       ...     ...     ...       ...     ...     ...   \n",
      "66995      1500      0         0       0       0         0       0       0   \n",
      "66996      1500     60       100       0     102       226       3     102   \n",
      "66997      1500    120       200       0     235       532       8     317   \n",
      "66998      1500    180       300       0     235       838      13     492   \n",
      "66999      1500    240       400       0     310      1217      19     813   \n",
      "\n",
      "       gold_t_2  lh_t_2  ...  xp_t_129  gold_t_130  lh_t_130  xp_t_130  \\\n",
      "0             0       0  ...         0           0         0         0   \n",
      "1           168       0  ...        62         345         6       351   \n",
      "2           330       0  ...       543         684        12       805   \n",
      "3           430       0  ...       842         958        16      1135   \n",
      "4           530       0  ...      1048        1500        26      1842   \n",
      "...         ...     ...  ...       ...         ...       ...       ...   \n",
      "66995         0       0  ...         0           0         0         0   \n",
      "66996       100       0  ...        82         100         0        20   \n",
      "66997       244       2  ...       318         275         2       136   \n",
      "66998       344       2  ...       565         392         3       230   \n",
      "66999       444       2  ...       735         492         3       356   \n",
      "\n",
      "       gold_t_131  lh_t_131  xp_t_131  gold_t_132  lh_t_132  xp_t_132  \n",
      "0               0         0         0           0         0         0  \n",
      "1             100         0        77         613         1       125  \n",
      "2             200         0       210         815         5       323  \n",
      "3             300         0       210        1290         8       527  \n",
      "4             400         0       210        1431         9       589  \n",
      "...           ...       ...       ...         ...       ...       ...  \n",
      "66995           0         0         0           0         0         0  \n",
      "66996         100         0        31         281         2       327  \n",
      "66997         282         2       237         597         7       781  \n",
      "66998         382         2       350         793         8      1162  \n",
      "66999         519         3       443        1059        12      1461  \n",
      "\n",
      "[7505 rows x 32 columns]\n",
      "0     True\n",
      "1    False\n",
      "2    False\n",
      "3    False\n",
      "4     True\n",
      "Name: radiant_win, dtype: bool\n",
      "       match_id  kills  deaths\n",
      "0             0      9       3\n",
      "1             0     13       3\n",
      "2             0      0       4\n",
      "3             0      8       4\n",
      "4             0     20       3\n",
      "...         ...    ...     ...\n",
      "15000      1500      0       3\n",
      "15001      1500      9       0\n",
      "15002      1500      1       0\n",
      "15003      1500      7       0\n",
      "15004      1500     12       0\n",
      "\n",
      "[7505 rows x 3 columns]\n"
     ]
    }
   ],
   "source": [
    "# Read the csv files and group them by match id\n",
    "chatData = pd.read_csv(\"dataset/chat.csv\")\n",
    "chatData = chatData.drop(['unit'],axis=1)\n",
    "chatData['label'] = sentiments # We are adding the labels to the chat messages\n",
    "chatData = chatData.groupby('match_id')\n",
    "print(chatData.head())\n",
    "\n",
    "player_times = pd.read_csv(\"dataset/player_time.csv\")\n",
    "player_times = player_times.groupby('match_id')\n",
    "print(player_times.head())  \n",
    "\n",
    "match_info = pd.read_csv(\"dataset/match.csv\")\n",
    "radiant_win = match_info['radiant_win']\n",
    "print(radiant_win.head())\n",
    "\n",
    "player_info = pd.read_csv(\"dataset/players.csv\")\n",
    "player_info = player_info[['match_id', 'kills','deaths']]\n",
    "player_info = player_info.groupby('match_id')\n",
    "print(player_info.head())"
   ]
  },
  {
   "cell_type": "code",
   "execution_count": 56,
   "metadata": {},
   "outputs": [],
   "source": [
    "# Create the dataframe with the columns chatData, goldData, KDratios and radiant_win\n",
    "dataframe = pd.DataFrame(columns=['chatData', 'goldData', 'KDratios', 'radiant_win'])"
   ]
  },
  {
   "cell_type": "markdown",
   "metadata": {},
   "source": [
    "\n",
    "**2.** **Create a list of lists of lists** called `full_chatdata`, with a tuple for each message, with label and team (you can see an example in the comments).\n",
    "\n",
    "\n",
    "**Hints:**\n",
    "\n",
    "- you can find the labels in the chatData dataframe\n",
    "- use the `slot` column to determine the team. 0 to 4 is for radiant, 5-9 is for dire"
   ]
  },
  {
   "cell_type": "code",
   "execution_count": 57,
   "metadata": {},
   "outputs": [],
   "source": [
    "# 2.\n",
    "full_chatdata = []\n",
    "\n",
    "for name, group in chatData:\n",
    "    chat_data_line = []\n",
    "    for index,row in group.iterrows():\n",
    "        chat_tuple = []\n",
    "        # Create a list of lists of lists called full_chatdata, with a tuple for each message, with label and team.\n",
    "        # It should look something like this:\n",
    "        '''\n",
    "        [\n",
    "            [ [0, 'dire'], [0, 'radiant'], [1, 'radiant'] ], \n",
    "            [ [0,'radiant'], [0, 'dire'], [-1, 'dire'], [0, 'dire'], [0, 'radiant'], [1, 'radiant'], [0, 'radiant'] ]\n",
    "        ]\n",
    "        '''\n",
    "        # Hint 1: use the label column to determine the negativity/positivity of the message\n",
    "        # Hint 2: use the 'slot' column to determine the team. 0 to 4 is for radiant, 5-9 is for dire.\n",
    "        label = row['label']\n",
    "        slot = row['slot']  \n",
    "        team = 'radiant' if slot < 5 else 'dire'\n",
    "        \n",
    "        chat_tuple = [label, team]\n",
    "        chat_data_line.append(chat_tuple)\n",
    "\n",
    "    full_chatdata.append(chat_data_line)"
   ]
  },
  {
   "cell_type": "markdown",
   "metadata": {},
   "source": [
    "**We create a list** called `goldData` containing the gold advantage for every timestamp of a match (usually every minute).\n"
   ]
  },
  {
   "cell_type": "code",
   "execution_count": 58,
   "metadata": {},
   "outputs": [],
   "source": [
    "# Create a list containing the gold advantage\n",
    "full_golddata =[]\n",
    "\n",
    "for name,group in player_times:\n",
    "    radiantAdv =[]\n",
    "    for index, row in group.iterrows():\n",
    "        radiantAdv.append((row['gold_t_0']+ row['gold_t_1']+ row['gold_t_2']+ \n",
    "                           row['gold_t_3']+ row['gold_t_4'])-\n",
    "            (row['gold_t_128'] +row['gold_t_129'] +row['gold_t_130'] \n",
    "             +row['gold_t_131'] +row['gold_t_132']))\n",
    "        \n",
    "    full_golddata.append(radiantAdv)"
   ]
  },
  {
   "cell_type": "markdown",
   "metadata": {},
   "source": [
    "**3.** **Create a list** called `KDratios` of kill-death ratios for each player in a match, split into two parts, one for each team, called `ratiosRadiant` and `ratiosDire`.\n",
    "\n",
    "**Add an additional column** called `radiant_win` displaying the winning team with a boolean value.\n",
    "\n",
    "\n",
    "**Kill/Death Ratio calculation:**\n",
    "The Kill/Death Ratio represents how many kills a player gets on average before they die each time they spawn and it is calculated by dividing the kills by the deaths. But what happens when one of these numbers is 0? We consider the following 2 cases:\n",
    "\n",
    "1. **Kills = 0, Deaths = x**\n",
    "    - In this case, the player has achieved zero kills and died x times. So no matter what x is, this player gets 0 kills on average before they die. Therefore, their Kill/Death ratio is zero for all x.  \n",
    "    \n",
    "  \n",
    "2. **Kills = x, Deaths = 0**\n",
    "    - In this case, the player has scored x kills and did not die at all. In other words, this player gets x kills on average before they die. Therefore, their Kill/Death ratio is x.\n",
    "\n",
    "\n",
    "**Hints:**\n",
    "\n",
    "- you can find the labels in the chatData dataframe\n",
    "- use the `slot` column to determine the team. 0 to 4 is for radiant, 5-9 is for dire\n",
    "- There is a column in the match.csv file called `radiant_win` that displays true if team radiant won, false if not"
   ]
  },
  {
   "cell_type": "code",
   "execution_count": 59,
   "metadata": {},
   "outputs": [
    {
     "name": "stdout",
     "output_type": "stream",
     "text": [
      "[[3.0, 4.333333333333333, 0, 2.0, 6.666666666666667], [0.8333333333333334, 0.3076923076923077, 0.5, 0.07142857142857142, 0.09090909090909091]]\n"
     ]
    },
    {
     "data": {
      "text/html": [
       "<div>\n",
       "<style scoped>\n",
       "    .dataframe tbody tr th:only-of-type {\n",
       "        vertical-align: middle;\n",
       "    }\n",
       "\n",
       "    .dataframe tbody tr th {\n",
       "        vertical-align: top;\n",
       "    }\n",
       "\n",
       "    .dataframe thead th {\n",
       "        text-align: right;\n",
       "    }\n",
       "</style>\n",
       "<table border=\"1\" class=\"dataframe\">\n",
       "  <thead>\n",
       "    <tr style=\"text-align: right;\">\n",
       "      <th></th>\n",
       "      <th>chatData</th>\n",
       "      <th>goldData</th>\n",
       "      <th>KDratios</th>\n",
       "      <th>radiant_win</th>\n",
       "    </tr>\n",
       "  </thead>\n",
       "  <tbody>\n",
       "    <tr>\n",
       "      <th>0</th>\n",
       "      <td>[[0, dire], [0, radiant], [0, radiant], [-1, d...</td>\n",
       "      <td>[0, -257, -255, -567, -550, -1037, -1131, -122...</td>\n",
       "      <td>[[3.0, 4.333333333333333, 0, 2.0, 6.6666666666...</td>\n",
       "      <td>True</td>\n",
       "    </tr>\n",
       "    <tr>\n",
       "      <th>1</th>\n",
       "      <td>[[0, radiant], [0, radiant], [-1, radiant], [-...</td>\n",
       "      <td>[0, -480, -583, -964, -573, -821, -937, -1077,...</td>\n",
       "      <td>[[0.75, 0.9, 0.38461538461538464, 0.8, 0.54545...</td>\n",
       "      <td>False</td>\n",
       "    </tr>\n",
       "    <tr>\n",
       "      <th>2</th>\n",
       "      <td>[[1, dire], [-1, radiant], [1, dire], [-1, rad...</td>\n",
       "      <td>[0, 273, 700, 839, 177, 522, -373, -69, -383, ...</td>\n",
       "      <td>[[0.38461538461538464, 0.5454545454545454, 1.6...</td>\n",
       "      <td>False</td>\n",
       "    </tr>\n",
       "    <tr>\n",
       "      <th>3</th>\n",
       "      <td>[[0, dire], [0, radiant], [0, dire], [0, dire]...</td>\n",
       "      <td>[0, -487, -157, -178, -69, -255, -497, -404, -...</td>\n",
       "      <td>[[0.3076923076923077, 1.8461538461538463, 1.54...</td>\n",
       "      <td>False</td>\n",
       "    </tr>\n",
       "    <tr>\n",
       "      <th>4</th>\n",
       "      <td>[[0, dire], [0, radiant], [0, radiant], [0, di...</td>\n",
       "      <td>[0, 333, 240, 515, 1310, 1755, 2044, 2839, 303...</td>\n",
       "      <td>[[4.0, 4.5, 0.3333333333333333, 0.25, 3.0], [0...</td>\n",
       "      <td>True</td>\n",
       "    </tr>\n",
       "  </tbody>\n",
       "</table>\n",
       "</div>"
      ],
      "text/plain": [
       "                                            chatData  \\\n",
       "0  [[0, dire], [0, radiant], [0, radiant], [-1, d...   \n",
       "1  [[0, radiant], [0, radiant], [-1, radiant], [-...   \n",
       "2  [[1, dire], [-1, radiant], [1, dire], [-1, rad...   \n",
       "3  [[0, dire], [0, radiant], [0, dire], [0, dire]...   \n",
       "4  [[0, dire], [0, radiant], [0, radiant], [0, di...   \n",
       "\n",
       "                                            goldData  \\\n",
       "0  [0, -257, -255, -567, -550, -1037, -1131, -122...   \n",
       "1  [0, -480, -583, -964, -573, -821, -937, -1077,...   \n",
       "2  [0, 273, 700, 839, 177, 522, -373, -69, -383, ...   \n",
       "3  [0, -487, -157, -178, -69, -255, -497, -404, -...   \n",
       "4  [0, 333, 240, 515, 1310, 1755, 2044, 2839, 303...   \n",
       "\n",
       "                                            KDratios  radiant_win  \n",
       "0  [[3.0, 4.333333333333333, 0, 2.0, 6.6666666666...         True  \n",
       "1  [[0.75, 0.9, 0.38461538461538464, 0.8, 0.54545...        False  \n",
       "2  [[0.38461538461538464, 0.5454545454545454, 1.6...        False  \n",
       "3  [[0.3076923076923077, 1.8461538461538463, 1.54...        False  \n",
       "4  [[4.0, 4.5, 0.3333333333333333, 0.25, 3.0], [0...         True  "
      ]
     },
     "execution_count": 59,
     "metadata": {},
     "output_type": "execute_result"
    }
   ],
   "source": [
    "# 3.\n",
    "full_playerinfo = []\n",
    "for name, group in player_info:\n",
    "    playerinfo = []\n",
    "    for index, row in group.iterrows():\n",
    "        killsdeaths = []\n",
    "        killsdeaths.append(row['kills'])\n",
    "        killsdeaths.append(row['deaths'])\n",
    "        playerinfo.append(killsdeaths)\n",
    "    full_playerinfo.append(playerinfo)\n",
    "\n",
    "full_KDRatios =[]\n",
    "\n",
    "for row in full_playerinfo:\n",
    "    KDRatios = []\n",
    "    ratiosRadiant =[]\n",
    "    ratiosDire = []\n",
    "    for i,player in enumerate(row):\n",
    "        # Create a list called [...] kill-death ratios for each player\n",
    "        # Hint: For each game the kd ratios should look like the following: \n",
    "        '''[[RadiantPlayer0KD, ... RadiantPlayer4KD],[DirePlayer0KD, ... DirePlayer4KD]]'''\n",
    "        kills = player[0]\n",
    "        deaths = player[1]\n",
    "        if kills == 0:\n",
    "            kd_ratio = 0\n",
    "        elif deaths == 0:\n",
    "            kd_ratio = kills\n",
    "        else:\n",
    "            kd_ratio = kills / deaths\n",
    "            \n",
    "        if i < 5:\n",
    "            ratiosRadiant.append(kd_ratio)\n",
    "        else:\n",
    "            ratiosDire.append(kd_ratio)\n",
    "\n",
    "    KDRatios = [ratiosRadiant, ratiosDire]\n",
    "    full_KDRatios.append(KDRatios)\n",
    "\n",
    "print(full_KDRatios[0])\n",
    "\n",
    "        \n",
    "dataframe['chatData'] = full_chatdata\n",
    "dataframe['goldData'] = full_golddata\n",
    "dataframe['radiant_win'] = radiant_win\n",
    "dataframe['KDratios'] = full_KDRatios\n",
    "\n",
    "dataframe.head(5)\n"
   ]
  },
  {
   "cell_type": "markdown",
   "metadata": {},
   "source": [
    "### b) Per-match analysis:\n",
    "\n",
    "As you may have noticed, the gold variables are gathered every minute, but the chat times are irregular. We could try to group the chat into 60 second timeframes that would correspond with the gold values, but this would be too tedious. Instead, we will simplify this by looking at the game as a whole:\n",
    "\n",
    "**1.** **Compute the average negativity** for each team by iterating over the list of tuples you created in exercise 4.2.3.\n"
   ]
  },
  {
   "cell_type": "code",
   "execution_count": 60,
   "metadata": {},
   "outputs": [],
   "source": [
    "# 1. Average negativity\n",
    "radiantToxicity_full = []\n",
    "direToxicity_full = []\n",
    "\n",
    "for index, row in dataframe.iterrows():\n",
    "    radiantToxicity = 0\n",
    "    direToxicity = 0\n",
    "    # These counters keep of track of the number of messages each team wrote:\n",
    "    radiantcounter = 0\n",
    "    direcounter = 0\n",
    "    for tuples in row['chatData']:\n",
    "        # Calculate each team's toxicity by summing all labels of a match.\n",
    "        # Hint: Don't forget to keep count of the number of messages written by each team.\n",
    "        label = tuples[0]\n",
    "        team = tuples[1]    \n",
    "        \n",
    "        if team == 'radiant':\n",
    "            radiantToxicity += label\n",
    "            radiantcounter += 1\n",
    "        elif team == 'dire':\n",
    "            direToxicity += label\n",
    "            direcounter += 1\n",
    "        \n",
    "        avg_radiant = radiantToxicity / radiantcounter if radiantcounter > 0 else 0\n",
    "        avg_dire = direToxicity / direcounter if direcounter > 0 else 0\n",
    "        \n",
    "    radiantToxicity_full.append(avg_radiant)\n",
    "    direToxicity_full.append(avg_dire)\n",
    "        "
   ]
  },
  {
   "cell_type": "markdown",
   "metadata": {},
   "source": [
    "**2.** Then, **compute the average gold advantage** for each match, and add a column for the gold advantage at the end of a match. The gold advantage at the end of a match is the last value of the list.\n",
    "\n"
   ]
  },
  {
   "cell_type": "code",
   "execution_count": 61,
   "metadata": {},
   "outputs": [],
   "source": [
    "# 2. Average gold\n",
    "goldAverages = []\n",
    "goldEnd = []\n",
    "for index, row in dataframe.iterrows():\n",
    "    # Compute the average gold advantage for each match, as well as the gold advantage at the end of the match.\n",
    "    # Hint: The column goldData contains a list with gold advantage per minutes.\n",
    "    gold_list = row['goldData']\n",
    "    if len(gold_list) > 0:\n",
    "        avg_gold = sum(gold_list) / len(gold_list)\n",
    "        final_gold = gold_list[-1]\n",
    "    else:\n",
    "        avg_gold = 0\n",
    "        final_gold = 0\n",
    "        \n",
    "    goldAverages.append(avg_gold)\n",
    "    goldEnd.append(final_gold)"
   ]
  },
  {
   "cell_type": "markdown",
   "metadata": {},
   "source": [
    "**3.** **Create a new column** for the difference in negativity between the two teams.\n",
    "\n",
    " "
   ]
  },
  {
   "cell_type": "code",
   "execution_count": 62,
   "metadata": {},
   "outputs": [],
   "source": [
    "# 3. Difference in negativity\n",
    "differences = []\n",
    "# Compute the difference in negativity between the 2 teams.\n",
    "\n",
    "for index, row in dataframe.iterrows():\n",
    "    # Hint: Use the lists radiantToxicity_full and direToxicity_full to compute the difference.\n",
    "    radiant_toxicity = radiantToxicity_full[index]\n",
    "    dire_toxicity = direToxicity_full[index]\n",
    "    \n",
    "    difference = radiant_toxicity - dire_toxicity\n",
    "    differences.append(difference)\n"
   ]
  },
  {
   "cell_type": "markdown",
   "metadata": {},
   "source": [
    "**4.** The kill/death ratios aren't very useful in the current format. Take the lowest K/D ratio from each team and **create new columns** for them. The reasoning behind this is that a low K/D ratio is a sign of underperformance of a player and players who do not perform on an acceptable level are usually harassed more often. Also add the average and the standard deviation."
   ]
  },
  {
   "cell_type": "code",
   "execution_count": 63,
   "metadata": {},
   "outputs": [
    {
     "data": {
      "text/html": [
       "<div>\n",
       "<style scoped>\n",
       "    .dataframe tbody tr th:only-of-type {\n",
       "        vertical-align: middle;\n",
       "    }\n",
       "\n",
       "    .dataframe tbody tr th {\n",
       "        vertical-align: top;\n",
       "    }\n",
       "\n",
       "    .dataframe thead th {\n",
       "        text-align: right;\n",
       "    }\n",
       "</style>\n",
       "<table border=\"1\" class=\"dataframe\">\n",
       "  <thead>\n",
       "    <tr style=\"text-align: right;\">\n",
       "      <th></th>\n",
       "      <th>chatData</th>\n",
       "      <th>goldData</th>\n",
       "      <th>KDratios</th>\n",
       "      <th>radiant_win</th>\n",
       "      <th>goldAvg</th>\n",
       "      <th>goldEnd</th>\n",
       "      <th>diff</th>\n",
       "      <th>worstKDR</th>\n",
       "      <th>worstKDD</th>\n",
       "      <th>avgKDR</th>\n",
       "      <th>avgKDD</th>\n",
       "      <th>devKDR</th>\n",
       "      <th>devKDD</th>\n",
       "    </tr>\n",
       "  </thead>\n",
       "  <tbody>\n",
       "    <tr>\n",
       "      <th>0</th>\n",
       "      <td>[[0, dire], [0, radiant], [0, radiant], [-1, d...</td>\n",
       "      <td>[0, -257, -255, -567, -550, -1037, -1131, -122...</td>\n",
       "      <td>[[3.0, 4.333333333333333, 0, 2.0, 6.6666666666...</td>\n",
       "      <td>True</td>\n",
       "      <td>5405.651163</td>\n",
       "      <td>22365</td>\n",
       "      <td>0.040373</td>\n",
       "      <td>0.000000</td>\n",
       "      <td>0.071429</td>\n",
       "      <td>3.200000</td>\n",
       "      <td>0.360673</td>\n",
       "      <td>2.237062</td>\n",
       "      <td>0.283571</td>\n",
       "    </tr>\n",
       "    <tr>\n",
       "      <th>1</th>\n",
       "      <td>[[0, radiant], [0, radiant], [-1, radiant], [-...</td>\n",
       "      <td>[0, -480, -583, -964, -573, -821, -937, -1077,...</td>\n",
       "      <td>[[0.75, 0.9, 0.38461538461538464, 0.8, 0.54545...</td>\n",
       "      <td>False</td>\n",
       "      <td>-7245.478261</td>\n",
       "      <td>-35698</td>\n",
       "      <td>-0.436364</td>\n",
       "      <td>0.384615</td>\n",
       "      <td>0.166667</td>\n",
       "      <td>0.676014</td>\n",
       "      <td>1.629048</td>\n",
       "      <td>0.185997</td>\n",
       "      <td>0.965620</td>\n",
       "    </tr>\n",
       "    <tr>\n",
       "      <th>2</th>\n",
       "      <td>[[1, dire], [-1, radiant], [1, dire], [-1, rad...</td>\n",
       "      <td>[0, 273, 700, 839, 177, 522, -373, -69, -383, ...</td>\n",
       "      <td>[[0.38461538461538464, 0.5454545454545454, 1.6...</td>\n",
       "      <td>False</td>\n",
       "      <td>-4928.145833</td>\n",
       "      <td>-26720</td>\n",
       "      <td>-0.214286</td>\n",
       "      <td>0.000000</td>\n",
       "      <td>0.833333</td>\n",
       "      <td>0.539347</td>\n",
       "      <td>3.178095</td>\n",
       "      <td>0.596448</td>\n",
       "      <td>2.813609</td>\n",
       "    </tr>\n",
       "    <tr>\n",
       "      <th>3</th>\n",
       "      <td>[[0, dire], [0, radiant], [0, dire], [0, dire]...</td>\n",
       "      <td>[0, -487, -157, -178, -69, -255, -497, -404, -...</td>\n",
       "      <td>[[0.3076923076923077, 1.8461538461538463, 1.54...</td>\n",
       "      <td>False</td>\n",
       "      <td>-2074.759259</td>\n",
       "      <td>-7919</td>\n",
       "      <td>0.344156</td>\n",
       "      <td>0.117647</td>\n",
       "      <td>0.263158</td>\n",
       "      <td>1.046723</td>\n",
       "      <td>1.156041</td>\n",
       "      <td>0.697715</td>\n",
       "      <td>0.663717</td>\n",
       "    </tr>\n",
       "    <tr>\n",
       "      <th>4</th>\n",
       "      <td>[[0, dire], [0, radiant], [0, radiant], [0, di...</td>\n",
       "      <td>[0, 333, 240, 515, 1310, 1755, 2044, 2839, 303...</td>\n",
       "      <td>[[4.0, 4.5, 0.3333333333333333, 0.25, 3.0], [0...</td>\n",
       "      <td>True</td>\n",
       "      <td>13510.088235</td>\n",
       "      <td>41280</td>\n",
       "      <td>0.166667</td>\n",
       "      <td>0.250000</td>\n",
       "      <td>0.090909</td>\n",
       "      <td>2.416667</td>\n",
       "      <td>0.519134</td>\n",
       "      <td>1.801234</td>\n",
       "      <td>0.275102</td>\n",
       "    </tr>\n",
       "  </tbody>\n",
       "</table>\n",
       "</div>"
      ],
      "text/plain": [
       "                                            chatData  \\\n",
       "0  [[0, dire], [0, radiant], [0, radiant], [-1, d...   \n",
       "1  [[0, radiant], [0, radiant], [-1, radiant], [-...   \n",
       "2  [[1, dire], [-1, radiant], [1, dire], [-1, rad...   \n",
       "3  [[0, dire], [0, radiant], [0, dire], [0, dire]...   \n",
       "4  [[0, dire], [0, radiant], [0, radiant], [0, di...   \n",
       "\n",
       "                                            goldData  \\\n",
       "0  [0, -257, -255, -567, -550, -1037, -1131, -122...   \n",
       "1  [0, -480, -583, -964, -573, -821, -937, -1077,...   \n",
       "2  [0, 273, 700, 839, 177, 522, -373, -69, -383, ...   \n",
       "3  [0, -487, -157, -178, -69, -255, -497, -404, -...   \n",
       "4  [0, 333, 240, 515, 1310, 1755, 2044, 2839, 303...   \n",
       "\n",
       "                                            KDratios  radiant_win  \\\n",
       "0  [[3.0, 4.333333333333333, 0, 2.0, 6.6666666666...         True   \n",
       "1  [[0.75, 0.9, 0.38461538461538464, 0.8, 0.54545...        False   \n",
       "2  [[0.38461538461538464, 0.5454545454545454, 1.6...        False   \n",
       "3  [[0.3076923076923077, 1.8461538461538463, 1.54...        False   \n",
       "4  [[4.0, 4.5, 0.3333333333333333, 0.25, 3.0], [0...         True   \n",
       "\n",
       "        goldAvg  goldEnd      diff  worstKDR  worstKDD    avgKDR    avgKDD  \\\n",
       "0   5405.651163    22365  0.040373  0.000000  0.071429  3.200000  0.360673   \n",
       "1  -7245.478261   -35698 -0.436364  0.384615  0.166667  0.676014  1.629048   \n",
       "2  -4928.145833   -26720 -0.214286  0.000000  0.833333  0.539347  3.178095   \n",
       "3  -2074.759259    -7919  0.344156  0.117647  0.263158  1.046723  1.156041   \n",
       "4  13510.088235    41280  0.166667  0.250000  0.090909  2.416667  0.519134   \n",
       "\n",
       "     devKDR    devKDD  \n",
       "0  2.237062  0.283571  \n",
       "1  0.185997  0.965620  \n",
       "2  0.596448  2.813609  \n",
       "3  0.697715  0.663717  \n",
       "4  1.801234  0.275102  "
      ]
     },
     "execution_count": 63,
     "metadata": {},
     "output_type": "execute_result"
    }
   ],
   "source": [
    "# 4. K/D ratios\n",
    "worstRadiant = []\n",
    "worstDire = []\n",
    "avgRadiant = []\n",
    "avgDire = []\n",
    "devRadiant = []\n",
    "devDire = []\n",
    "\n",
    "for index, row in dataframe.iterrows():\n",
    "    kdr = row['KDratios']\n",
    "    radiant_ratios = kdr[0]\n",
    "    dire_ratios = kdr[1]\n",
    "\n",
    "    worstRadiant.append(min(radiant_ratios))\n",
    "    worstDire.append(min(dire_ratios))\n",
    "    \n",
    "    avgRadiant.append(np.mean(radiant_ratios))\n",
    "    avgDire.append(np.mean(dire_ratios))\n",
    "    \n",
    "    devRadiant.append(np.std(radiant_ratios))\n",
    "    devDire.append(np.std(dire_ratios))\n",
    "\n",
    "    \n",
    "    \n",
    "# We add the newly created columns to our dataframe       \n",
    "dataframe['goldAvg'] = goldAverages\n",
    "dataframe['goldEnd'] = goldEnd \n",
    "dataframe['diff'] = differences\n",
    "dataframe['worstKDR'] = worstRadiant\n",
    "dataframe['worstKDD'] = worstDire\n",
    "dataframe['avgKDR'] = avgRadiant\n",
    "dataframe['avgKDD'] = avgDire\n",
    "dataframe['devKDR'] = devRadiant\n",
    "dataframe['devKDD'] = devDire\n",
    "\n",
    "dataframe.head(5)"
   ]
  },
  {
   "cell_type": "markdown",
   "metadata": {},
   "source": [
    "### c) A warm-up regression\n",
    "\n",
    "Before we test our hypothesis of whether or not the state of the game influences player behavior, we will perform a linear regression with only one input variable: The gold advantage. \n",
    "\n",
    "You have probably wondered why we just assume that the gold values would represent the state of a game, whether a team is losing or winning. So far, this has only been a theory, and we should test it, as it would not make sense to use it as a representation for the state of the game in the actual regression model, if it wasn't representative at all.\n",
    "\n",
    "**1.** Once again, **split your data** into a train set and test set, **create a linear regression model**, **fit the data** and **print your score**. Try it two times: Your dependant variable should always be `radiant_win`, your X should be the average gold advantage or the gold advantage at the end."
   ]
  },
  {
   "cell_type": "code",
   "execution_count": 64,
   "metadata": {},
   "outputs": [
    {
     "name": "stdout",
     "output_type": "stream",
     "text": [
      "0.6574901681846863\n"
     ]
    }
   ],
   "source": [
    "# Primo test: goldAvg\n",
    "X1 = dataframe[['goldAvg']]\n",
    "y = dataframe['radiant_win']\n",
    "X2 = dataframe[['goldEnd']]\n",
    "\n",
    "# Splitting the data into training and testing data\n",
    "X_train, X_test, y_train, y_test = train_test_split(X1, y, test_size = 0.25) \n",
    "regr = LinearRegression() \n",
    "regr.fit(X_train, y_train) \n",
    "print(regr.score(X_test, y_test))"
   ]
  },
  {
   "cell_type": "code",
   "execution_count": 65,
   "metadata": {
    "scrolled": true
   },
   "outputs": [
    {
     "data": {
      "image/png": "[encoded data removed]",
      "text/plain": [
       "<Figure size 640x480 with 1 Axes>"
      ]
     },
     "metadata": {},
     "output_type": "display_data"
    }
   ],
   "source": [
    "y_pred = regr.predict(X_test) \n",
    "plt.scatter(X_test, y_test, color ='b', alpha=0.5, label='Matches') \n",
    "plt.plot(X_test, y_pred, color ='k', linewidth=2) \n",
    "\n",
    "plt.xlabel('goldAvg')\n",
    "plt.ylabel('Radiant Win')\n",
    "plt.title('Regression of Radiant Win vs '+ 'goldAvg')\n",
    "plt.legend()\n",
    "plt.grid(alpha=0.2)\n",
    "plt.show() "
   ]
  },
  {
   "cell_type": "code",
   "execution_count": 66,
   "metadata": {},
   "outputs": [
    {
     "name": "stdout",
     "output_type": "stream",
     "text": [
      "0.8295828820135507\n"
     ]
    }
   ],
   "source": [
    "# Splitting the data into training and testing data\n",
    "X_train, X_test, y_train, y_test = train_test_split(X2, y, test_size = 0.25) \n",
    "regr = LinearRegression() \n",
    "regr.fit(X_train, y_train) \n",
    "print(regr.score(X_test, y_test))"
   ]
  },
  {
   "cell_type": "code",
   "execution_count": 67,
   "metadata": {},
   "outputs": [
    {
     "data": {
      "image/png": "[encoded data removed]",
      "text/plain": [
       "<Figure size 640x480 with 1 Axes>"
      ]
     },
     "metadata": {},
     "output_type": "display_data"
    }
   ],
   "source": [
    "y_pred = regr.predict(X_test) \n",
    "plt.scatter(X_test, y_test, color ='b', alpha=0.5, label='Matches') \n",
    "plt.plot(X_test, y_pred, color ='k', linewidth=2) \n",
    "\n",
    "plt.xlabel('goldEnd')\n",
    "plt.ylabel('Radiant Win')\n",
    "plt.title('Regression of Radiant Win vs '+ 'goldEnd')\n",
    "plt.legend()\n",
    "plt.grid(alpha=0.2)\n",
    "plt.show() "
   ]
  },
  {
   "cell_type": "markdown",
   "metadata": {},
   "source": [
    "**2.** **Discuss** the score you obtained! What do the results for the regression mean for the explanatory power of the gold variables? How can one interpret the graph?"
   ]
  },
  {
   "cell_type": "markdown",
   "metadata": {},
   "source": [
    "**Write your observations here:** The regression scores show that goldEnd (0.84) explains match outcome much better than goldAvg (0.62). This means the final gold difference is a stronger predictor of winning than the average gold difference during the match.\n",
    "\n",
    "The graphs confirm this: in the goldEnd plot, wins and losses are clearly separated: higher gold usually means a win, lower gold means a loss, with little overlap. This clean separation shows that goldEnd has higher explanatory power for the result."
   ]
  },
  {
   "cell_type": "markdown",
   "metadata": {},
   "source": [
    "### d) Testing our hypothesis\n",
    "\n",
    "Finally, we can do our linear regression. This time, **use the newly created columns from 4.2 b)**. Use the **gold-related data** and the **kill/death ratios for X**, **worst kill/dath rations for X**, **standard deviation**, and the **difference in negativity for Y**."
   ]
  },
  {
   "cell_type": "code",
   "execution_count": 68,
   "metadata": {},
   "outputs": [
    {
     "name": "stdout",
     "output_type": "stream",
     "text": [
      "0.0030917173846907176\n"
     ]
    }
   ],
   "source": [
    "# Define X and Y\n",
    "# Feature matrix (X)\n",
    "X = dataframe[[\n",
    "    'goldAvg',\n",
    "    'goldEnd',\n",
    "    'avgKDR',\n",
    "    'avgKDD',\n",
    "    'worstKDR',\n",
    "    'worstKDD',\n",
    "    'devKDR',\n",
    "    'devKDD'\n",
    "]]\n",
    "\n",
    "# Target vector (Y): \n",
    "Y = dataframe['diff']\n",
    "\n",
    "# with sklearn\n",
    "regr = linear_model.LinearRegression()\n",
    "regr.fit(X, Y)\n",
    "print(regr.score(X,Y))"
   ]
  },
  {
   "cell_type": "markdown",
   "metadata": {},
   "source": [
    "### e) Discussion\n",
    "\n",
    "What is the score? What does that number mean? Discuss possible reasons for this result.  \n",
    "**Hint:** Take a peek at the labels.csv file and look at some of the most common negative words. "
   ]
  },
  {
   "cell_type": "markdown",
   "metadata": {},
   "source": [
    "**Write your observations here:** The regression produced a score of only 0.003, meaning that the model explains virtually none of the variation in negativity difference.\n",
    "\n",
    "This suggests that performance indicators like gold and kill/death ratios are not good predictors of toxic behavior in chat. One reason could be that negative messages are often aimed at the opposing team, not necessarily reflecting frustration with one’s own performance.\n",
    "\n",
    "Sometimes, toxic language is used regardless of performance, just to mock the enemy, both when losing and even more often when winning. If we look at labels.csv, many messages are trash talk or taunts to provoke the enemy, without real connection to how the game is going.\n",
    "\n",
    "So overall, negativity is highly context-dependent and noisy, and it does not follow a clear linear pattern with game statistics."
   ]
  },
  {
   "cell_type": "markdown",
   "metadata": {},
   "source": [
    "# Feedback\n",
    "\n",
    "We're always looking for improvements. Please share your feedback; tell us where you had difficulties or what you’d change to make things better.\n",
    "\n",
    "**Note:** All feedback will be saved anonymous, so feel free to be open and honest!"
   ]
  },
  {
   "cell_type": "markdown",
   "metadata": {},
   "source": [
    "**Please write your feedback here:**"
   ]
  }
 ],
 "metadata": {
  "kernelspec": {
   "display_name": "SA_env",
   "language": "python",
   "name": "python3"
  },
  "language_info": {
   "codemirror_mode": {
    "name": "ipython",
    "version": 3
   },
   "file_extension": ".py",
   "mimetype": "text/x-python",
   "name": "python",
   "nbconvert_exporter": "python",
   "pygments_lexer": "ipython3",
   "version": "3.9.20"
  }
 },
 "nbformat": 4,
 "nbformat_minor": 4
}
